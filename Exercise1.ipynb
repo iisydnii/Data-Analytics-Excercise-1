{
 "cells": [
  {
   "cell_type": "code",
   "execution_count": null,
   "id": "f70aeadb",
   "metadata": {},
   "outputs": [],
   "source": []
  },
  {
   "cell_type": "code",
   "execution_count": 14,
   "id": "a18d89ad",
   "metadata": {},
   "outputs": [
    {
     "name": "stdout",
     "output_type": "stream",
     "text": [
      "Sydni's Exercise 1\n",
      "08/25/2021\n",
      "\n",
      "                   job  type  income  education  prestige\n",
      "0           accountant  prof      62         86        82\n",
      "1                pilot  prof      72         76        83\n",
      "2            architect  prof      75         92        90\n",
      "3               author  prof      55         90        76\n",
      "4              chemist  prof      64         86        90\n",
      "5             minister  prof      21         84        87\n",
      "6            professor  prof      64         93        93\n",
      "7              dentist  prof      80        100        90\n",
      "8             reporter    wc      67         87        52\n",
      "9             engineer  prof      72         86        88\n",
      "10          undertaker  prof      42         74        57\n",
      "11              lawyer  prof      76         98        89\n",
      "12           physician  prof      76         97        97\n",
      "13      welfare.worker  prof      41         84        59\n",
      "14             teacher  prof      48         91        73\n",
      "15           conductor    wc      76         34        38\n",
      "16          contractor  prof      53         45        76\n",
      "17       factory.owner  prof      60         56        81\n",
      "18       store.manager  prof      42         44        45\n",
      "19              banker  prof      78         82        92\n",
      "20          bookkeeper    wc      29         72        39\n",
      "21        mail.carrier    wc      48         55        34\n",
      "22     insurance.agent    wc      55         71        41\n",
      "23         store.clerk    wc      29         50        16\n",
      "24           carpenter    bc      21         23        33\n",
      "25         electrician    bc      47         39        53\n",
      "26         RR.engineer    bc      81         28        67\n",
      "27           machinist    bc      36         32        57\n",
      "28      auto.repairman    bc      22         22        26\n",
      "29             plumber    bc      44         25        29\n",
      "30   gas.stn.attendant    bc      15         29        10\n",
      "31          coal.miner    bc       7          7        15\n",
      "32  streetcar.motorman    bc      42         26        19\n",
      "33         taxi.driver    bc       9         19        10\n",
      "34        truck.driver    bc      21         15        13\n",
      "35    machine.operator    bc      21         20        24\n",
      "36              barber    bc      16         26        20\n",
      "37           bartender    bc      16         28         7\n",
      "38         shoe.shiner    bc       9         17         3\n",
      "39                cook    bc      14         22        16\n",
      "40          soda.clerk    bc      12         30         6\n",
      "41            watchman    bc      17         25        11\n",
      "42             janitor    bc       7         20         8\n",
      "43           policeman    bc      34         47        41\n",
      "44              waiter    bc       8         32        10\n"
     ]
    }
   ],
   "source": [
    "import pandas as pd\n",
    "from pandas import read_csv\n",
    "url = \"https://raw.githubusercontent.com/iisydnii/Data-Analytics-Excercise-1/main/Income%20Data1.csv\"\n",
    "dataset = pd.read_csv(url , error_bad_lines=False)\n",
    "print(\"Sydni's Exercise 1\")\n",
    "print(\"08/25/2021\")\n",
    "print(\"\")\n",
    "print(dataset)"
   ]
  },
  {
   "cell_type": "code",
   "execution_count": null,
   "id": "50e6d4aa",
   "metadata": {},
   "outputs": [],
   "source": []
  },
  {
   "cell_type": "code",
   "execution_count": null,
   "id": "09bb8b4a",
   "metadata": {},
   "outputs": [],
   "source": []
  }
 ],
 "metadata": {
  "kernelspec": {
   "display_name": "Python 3",
   "language": "python",
   "name": "python3"
  },
  "language_info": {
   "codemirror_mode": {
    "name": "ipython",
    "version": 3
   },
   "file_extension": ".py",
   "mimetype": "text/x-python",
   "name": "python",
   "nbconvert_exporter": "python",
   "pygments_lexer": "ipython3",
   "version": "3.8.8"
  }
 },
 "nbformat": 4,
 "nbformat_minor": 5
}
